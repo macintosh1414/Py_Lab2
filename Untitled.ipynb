{
 "cells": [
  {
   "cell_type": "code",
   "execution_count": null,
   "id": "ed64beb3-f060-491b-83bb-0642f5a204a0",
   "metadata": {},
   "outputs": [],
   "source": [
    "import pandas as pd\n",
    "import matplotlib.pyplot as plt\n",
    "\n",
    "file_path = 'NationalNames.csv'\n",
    "data = pd.read_csv(file_path)\n",
    "\n",
    "def get_first_8_rows(data):\n",
    "    return data.head(8)\n",
    "\n",
    "def get_last_8_rows(data):\n",
    "    return data.tail(8)\n",
    "\n",
    "def get_columns(data):\n",
    "    return data.columns\n",
    "\n",
    "def get_unique_names_count(data):\n",
    "    return data['Name'].nunique()\n",
    "\n",
    "def get_unique_names_per_year(data):\n",
    "    return data.groupby('Year')['Name'].nunique()\n",
    "\n",
    "def get_year_with_max_unique_names(unique_names_per_year):\n",
    "    return unique_names_per_year.idxmax()\n",
    "\n",
    "def get_most_popular_name_in_max_year(data, year_with_max_unique_names):\n",
    "    data_for_max_year = data[data['Year'] == year_with_max_unique_names]\n",
    "    return data_for_max_year.loc[data_for_max_year['Count'].idxmax()]\n",
    "\n",
    "def get_jacob_female_year(data):\n",
    "    jacob_female = data[(data['Name'] == 'Jacob') & (data['Gender'] == 'F')]\n",
    "    if not jacob_female.empty:\n",
    "        jacob_female_year = jacob_female.loc[jacob_female['Count'].idxmax()]\n",
    "        return jacob_female_year['Year']\n",
    "    else:\n",
    "        return None\n",
    "\n",
    "def get_year_with_most_neutral_names(data):\n",
    "    gender_neutral_names = data.groupby(['Year', 'Name']).filter(lambda x: x['Gender'].nunique() == 2)\n",
    "    gender_neutral_counts = gender_neutral_names.groupby('Year')['Name'].nunique()\n",
    "    return gender_neutral_counts.idxmax()\n",
    "\n",
    "def get_total_births_per_year(data):\n",
    "    return data.groupby('Year')['Count'].sum()\n",
    "\n",
    "def get_year_with_most_births(total_births_per_year):\n",
    "    return total_births_per_year.idxmax()\n",
    "\n",
    "def get_births_by_gender(data):\n",
    "    return data.groupby(['Year', 'Gender'])['Count'].sum().unstack()\n",
    "\n",
    "def get_years_more_girls(births_by_gender):\n",
    "    return (births_by_gender['F'] > births_by_gender['M']).sum()\n",
    "\n",
    "def get_barbara_male_count(data):\n",
    "    return data[(data['Name'] == 'Barbara') & (data['Gender'] == 'M')]['Count'].sum()\n",
    "\n",
    "def get_num_years(data):\n",
    "    return data['Year'].nunique()\n",
    "\n",
    "def get_popular_neutral_names(data, num_years):\n",
    "    gender_neutral_names = data.groupby(['Year', 'Name']).filter(lambda x: x['Gender'].nunique() == 2)\n",
    "    neutral_names_per_year = gender_neutral_names.groupby('Name')['Year'].nunique()\n",
    "    return neutral_names_per_year[neutral_names_per_year == num_years]\n",
    "\n",
    "def get_least_popular_name(data):\n",
    "    least_popular_names = data.groupby('Name')['Count'].sum()\n",
    "    return least_popular_names.idxmax()\n",
    "\n",
    "def plot_john_mary_distribution(data):\n",
    "    john_female = data[(data['Name'] == 'John') & (data['Gender'] == 'F')]\n",
    "    mary_male = data[(data['Name'] == 'Mary') & (data['Gender'] == 'M')]\n",
    "\n",
    "    plt.figure(figsize=(10, 6))\n",
    "    plt.plot(john_female['Year'], john_female['Count'], label='John (жінки)', color='blue')\n",
    "    plt.plot(mary_male['Year'], mary_male['Count'], label='Mary (чоловіки)', color='green')\n",
    "    plt.title('Розподіл кількості імен John (жінки) та Mary (чоловіки) по роках')\n",
    "    plt.xlabel('Рік')\n",
    "    plt.ylabel('Кількість')\n",
    "    plt.legend()\n",
    "    plt.grid()\n",
    "    plt.show()\n"
   ]
  },
  {
   "cell_type": "code",
   "execution_count": null,
   "id": "26c1e34d-9581-44ed-8a28-86487e46342a",
   "metadata": {},
   "outputs": [],
   "source": [
    "first_8_rows = get_first_8_rows(data)\n",
    "first_8_rows\n"
   ]
  },
  {
   "cell_type": "code",
   "execution_count": 9,
   "id": "fb99d657-3d15-47ef-91c2-12cf547826aa",
   "metadata": {},
   "outputs": [
    {
     "data": {
      "text/html": [
       "<div>\n",
       "<style scoped>\n",
       "    .dataframe tbody tr th:only-of-type {\n",
       "        vertical-align: middle;\n",
       "    }\n",
       "\n",
       "    .dataframe tbody tr th {\n",
       "        vertical-align: top;\n",
       "    }\n",
       "\n",
       "    .dataframe thead th {\n",
       "        text-align: right;\n",
       "    }\n",
       "</style>\n",
       "<table border=\"1\" class=\"dataframe\">\n",
       "  <thead>\n",
       "    <tr style=\"text-align: right;\">\n",
       "      <th></th>\n",
       "      <th>Id</th>\n",
       "      <th>Name</th>\n",
       "      <th>Year</th>\n",
       "      <th>Gender</th>\n",
       "      <th>Count</th>\n",
       "    </tr>\n",
       "  </thead>\n",
       "  <tbody>\n",
       "    <tr>\n",
       "      <th>1825425</th>\n",
       "      <td>1825426</td>\n",
       "      <td>Zo</td>\n",
       "      <td>2014</td>\n",
       "      <td>M</td>\n",
       "      <td>5</td>\n",
       "    </tr>\n",
       "    <tr>\n",
       "      <th>1825426</th>\n",
       "      <td>1825427</td>\n",
       "      <td>Zyeir</td>\n",
       "      <td>2014</td>\n",
       "      <td>M</td>\n",
       "      <td>5</td>\n",
       "    </tr>\n",
       "    <tr>\n",
       "      <th>1825427</th>\n",
       "      <td>1825428</td>\n",
       "      <td>Zyel</td>\n",
       "      <td>2014</td>\n",
       "      <td>M</td>\n",
       "      <td>5</td>\n",
       "    </tr>\n",
       "    <tr>\n",
       "      <th>1825428</th>\n",
       "      <td>1825429</td>\n",
       "      <td>Zykeem</td>\n",
       "      <td>2014</td>\n",
       "      <td>M</td>\n",
       "      <td>5</td>\n",
       "    </tr>\n",
       "    <tr>\n",
       "      <th>1825429</th>\n",
       "      <td>1825430</td>\n",
       "      <td>Zymeer</td>\n",
       "      <td>2014</td>\n",
       "      <td>M</td>\n",
       "      <td>5</td>\n",
       "    </tr>\n",
       "    <tr>\n",
       "      <th>1825430</th>\n",
       "      <td>1825431</td>\n",
       "      <td>Zymiere</td>\n",
       "      <td>2014</td>\n",
       "      <td>M</td>\n",
       "      <td>5</td>\n",
       "    </tr>\n",
       "    <tr>\n",
       "      <th>1825431</th>\n",
       "      <td>1825432</td>\n",
       "      <td>Zyran</td>\n",
       "      <td>2014</td>\n",
       "      <td>M</td>\n",
       "      <td>5</td>\n",
       "    </tr>\n",
       "    <tr>\n",
       "      <th>1825432</th>\n",
       "      <td>1825433</td>\n",
       "      <td>Zyrin</td>\n",
       "      <td>2014</td>\n",
       "      <td>M</td>\n",
       "      <td>5</td>\n",
       "    </tr>\n",
       "  </tbody>\n",
       "</table>\n",
       "</div>"
      ],
      "text/plain": [
       "              Id     Name  Year Gender  Count\n",
       "1825425  1825426       Zo  2014      M      5\n",
       "1825426  1825427    Zyeir  2014      M      5\n",
       "1825427  1825428     Zyel  2014      M      5\n",
       "1825428  1825429   Zykeem  2014      M      5\n",
       "1825429  1825430   Zymeer  2014      M      5\n",
       "1825430  1825431  Zymiere  2014      M      5\n",
       "1825431  1825432    Zyran  2014      M      5\n",
       "1825432  1825433    Zyrin  2014      M      5"
      ]
     },
     "execution_count": 9,
     "metadata": {},
     "output_type": "execute_result"
    }
   ],
   "source": [
    "last_8_rows = get_last_8_rows(data)\n",
    "last_8_rows\n"
   ]
  },
  {
   "cell_type": "code",
   "execution_count": 11,
   "id": "eec60339-ff2f-4998-bc71-4b78687835d2",
   "metadata": {},
   "outputs": [
    {
     "data": {
      "text/plain": [
       "Index(['Id', 'Name', 'Year', 'Gender', 'Count'], dtype='object')"
      ]
     },
     "execution_count": 11,
     "metadata": {},
     "output_type": "execute_result"
    }
   ],
   "source": [
    "columns = get_columns(data)\n",
    "columns\n"
   ]
  },
  {
   "cell_type": "code",
   "execution_count": 13,
   "id": "6a98ddcd-d158-42fa-a2a7-22b5a167e94d",
   "metadata": {},
   "outputs": [
    {
     "data": {
      "text/plain": [
       "93889"
      ]
     },
     "execution_count": 13,
     "metadata": {},
     "output_type": "execute_result"
    }
   ],
   "source": [
    "unique_names_count = get_unique_names_count(data)\n",
    "unique_names_count\n"
   ]
  },
  {
   "cell_type": "code",
   "execution_count": 15,
   "id": "dc15c274-2e04-4699-ba93-49cc1cd6ec27",
   "metadata": {},
   "outputs": [
    {
     "data": {
      "text/plain": [
       "Year\n",
       "1880     1889\n",
       "1881     1830\n",
       "1882     2012\n",
       "1883     1962\n",
       "1884     2158\n",
       "        ...  \n",
       "2010    31603\n",
       "2011    31418\n",
       "2012    31236\n",
       "2013    30774\n",
       "2014    30579\n",
       "Name: Name, Length: 135, dtype: int64"
      ]
     },
     "execution_count": 15,
     "metadata": {},
     "output_type": "execute_result"
    }
   ],
   "source": [
    "unique_names_per_year = get_unique_names_per_year(data)\n",
    "unique_names_per_year\n"
   ]
  },
  {
   "cell_type": "code",
   "execution_count": 17,
   "id": "b137b130-481d-40cf-ae7e-20861dba357a",
   "metadata": {},
   "outputs": [
    {
     "data": {
      "text/plain": [
       "np.int64(2008)"
      ]
     },
     "execution_count": 17,
     "metadata": {},
     "output_type": "execute_result"
    }
   ],
   "source": [
    "year_with_max_unique_names = get_year_with_max_unique_names(unique_names_per_year)\n",
    "year_with_max_unique_names\n"
   ]
  },
  {
   "cell_type": "code",
   "execution_count": 19,
   "id": "b3ff6ec3-9c7a-40e8-9252-53f5dd0a9bb7",
   "metadata": {},
   "outputs": [
    {
     "data": {
      "text/plain": [
       "Id        1608303\n",
       "Name        Jacob\n",
       "Year         2008\n",
       "Gender          M\n",
       "Count       22568\n",
       "Name: 1608302, dtype: object"
      ]
     },
     "execution_count": 19,
     "metadata": {},
     "output_type": "execute_result"
    }
   ],
   "source": [
    "most_popular_name_max_year = get_most_popular_name_in_max_year(data, year_with_max_unique_names)\n",
    "most_popular_name_max_year\n"
   ]
  },
  {
   "cell_type": "code",
   "execution_count": 21,
   "id": "4ca4b1c3-2941-4b17-8858-20d141d594b7",
   "metadata": {},
   "outputs": [
    {
     "data": {
      "text/plain": [
       "np.int64(2004)"
      ]
     },
     "execution_count": 21,
     "metadata": {},
     "output_type": "execute_result"
    }
   ],
   "source": [
    "jacob_female_year = get_jacob_female_year(data)\n",
    "jacob_female_year\n"
   ]
  },
  {
   "cell_type": "code",
   "execution_count": 39,
   "id": "5bdc5e03-27d6-40d0-8a3c-d8f2646b0bc4",
   "metadata": {},
   "outputs": [
    {
     "data": {
      "text/plain": [
       "np.int64(2008)"
      ]
     },
     "execution_count": 39,
     "metadata": {},
     "output_type": "execute_result"
    }
   ],
   "source": [
    "year_with_most_neutral = get_year_with_most_neutral_names(data)\n",
    "year_with_most_neutral\n"
   ]
  },
  {
   "cell_type": "code",
   "execution_count": 41,
   "id": "edde7c42-383d-42a4-82b5-f1bc2630b6f8",
   "metadata": {},
   "outputs": [
    {
     "data": {
      "text/plain": [
       "Year\n",
       "1880     201484\n",
       "1881     192699\n",
       "1882     221538\n",
       "1883     216950\n",
       "1884     243467\n",
       "         ...   \n",
       "2010    3686589\n",
       "2011    3646730\n",
       "2012    3643336\n",
       "2013    3626802\n",
       "2014    3670151\n",
       "Name: Count, Length: 135, dtype: int64"
      ]
     },
     "execution_count": 41,
     "metadata": {},
     "output_type": "execute_result"
    }
   ],
   "source": [
    "total_births_per_year = get_total_births_per_year(data)\n",
    "total_births_per_year\n"
   ]
  },
  {
   "cell_type": "code",
   "execution_count": 42,
   "id": "c396ecbf-16e0-47af-871c-1b7e10ae747f",
   "metadata": {},
   "outputs": [
    {
     "data": {
      "text/plain": [
       "np.int64(1957)"
      ]
     },
     "execution_count": 42,
     "metadata": {},
     "output_type": "execute_result"
    }
   ],
   "source": [
    "year_with_most_births = get_year_with_most_births(total_births_per_year)\n",
    "year_with_most_births\n"
   ]
  },
  {
   "cell_type": "code",
   "execution_count": 43,
   "id": "e9eba6f7-ffde-4a62-9a59-5aee31089f4a",
   "metadata": {},
   "outputs": [
    {
     "data": {
      "text/html": [
       "<div>\n",
       "<style scoped>\n",
       "    .dataframe tbody tr th:only-of-type {\n",
       "        vertical-align: middle;\n",
       "    }\n",
       "\n",
       "    .dataframe tbody tr th {\n",
       "        vertical-align: top;\n",
       "    }\n",
       "\n",
       "    .dataframe thead th {\n",
       "        text-align: right;\n",
       "    }\n",
       "</style>\n",
       "<table border=\"1\" class=\"dataframe\">\n",
       "  <thead>\n",
       "    <tr style=\"text-align: right;\">\n",
       "      <th>Gender</th>\n",
       "      <th>F</th>\n",
       "      <th>M</th>\n",
       "    </tr>\n",
       "    <tr>\n",
       "      <th>Year</th>\n",
       "      <th></th>\n",
       "      <th></th>\n",
       "    </tr>\n",
       "  </thead>\n",
       "  <tbody>\n",
       "    <tr>\n",
       "      <th>1880</th>\n",
       "      <td>90993</td>\n",
       "      <td>110491</td>\n",
       "    </tr>\n",
       "    <tr>\n",
       "      <th>1881</th>\n",
       "      <td>91954</td>\n",
       "      <td>100745</td>\n",
       "    </tr>\n",
       "    <tr>\n",
       "      <th>1882</th>\n",
       "      <td>107850</td>\n",
       "      <td>113688</td>\n",
       "    </tr>\n",
       "    <tr>\n",
       "      <th>1883</th>\n",
       "      <td>112321</td>\n",
       "      <td>104629</td>\n",
       "    </tr>\n",
       "    <tr>\n",
       "      <th>1884</th>\n",
       "      <td>129022</td>\n",
       "      <td>114445</td>\n",
       "    </tr>\n",
       "    <tr>\n",
       "      <th>...</th>\n",
       "      <td>...</td>\n",
       "      <td>...</td>\n",
       "    </tr>\n",
       "    <tr>\n",
       "      <th>2010</th>\n",
       "      <td>1772738</td>\n",
       "      <td>1913851</td>\n",
       "    </tr>\n",
       "    <tr>\n",
       "      <th>2011</th>\n",
       "      <td>1753500</td>\n",
       "      <td>1893230</td>\n",
       "    </tr>\n",
       "    <tr>\n",
       "      <th>2012</th>\n",
       "      <td>1753922</td>\n",
       "      <td>1889414</td>\n",
       "    </tr>\n",
       "    <tr>\n",
       "      <th>2013</th>\n",
       "      <td>1745339</td>\n",
       "      <td>1881463</td>\n",
       "    </tr>\n",
       "    <tr>\n",
       "      <th>2014</th>\n",
       "      <td>1768775</td>\n",
       "      <td>1901376</td>\n",
       "    </tr>\n",
       "  </tbody>\n",
       "</table>\n",
       "<p>135 rows × 2 columns</p>\n",
       "</div>"
      ],
      "text/plain": [
       "Gender        F        M\n",
       "Year                    \n",
       "1880      90993   110491\n",
       "1881      91954   100745\n",
       "1882     107850   113688\n",
       "1883     112321   104629\n",
       "1884     129022   114445\n",
       "...         ...      ...\n",
       "2010    1772738  1913851\n",
       "2011    1753500  1893230\n",
       "2012    1753922  1889414\n",
       "2013    1745339  1881463\n",
       "2014    1768775  1901376\n",
       "\n",
       "[135 rows x 2 columns]"
      ]
     },
     "execution_count": 43,
     "metadata": {},
     "output_type": "execute_result"
    }
   ],
   "source": [
    "births_by_gender = get_births_by_gender(data)\n",
    "births_by_gender\n"
   ]
  },
  {
   "cell_type": "code",
   "execution_count": 44,
   "id": "8b6d87b9-8130-4e92-b219-e8e1124cab20",
   "metadata": {},
   "outputs": [
    {
     "data": {
      "text/plain": [
       "np.int64(54)"
      ]
     },
     "execution_count": 44,
     "metadata": {},
     "output_type": "execute_result"
    }
   ],
   "source": [
    "years_more_girls = get_years_more_girls(births_by_gender)\n",
    "years_more_girls\n"
   ]
  },
  {
   "cell_type": "code",
   "execution_count": 45,
   "id": "0bacfe31-21d3-4ec3-a023-e1600c65918f",
   "metadata": {},
   "outputs": [
    {
     "data": {
      "text/plain": [
       "np.int64(4139)"
      ]
     },
     "execution_count": 45,
     "metadata": {},
     "output_type": "execute_result"
    }
   ],
   "source": [
    "barbara_male_count = get_barbara_male_count(data)\n",
    "barbara_male_count\n"
   ]
  },
  {
   "cell_type": "code",
   "execution_count": 46,
   "id": "bbae54eb-7635-433b-85fe-040d55503c09",
   "metadata": {},
   "outputs": [
    {
     "data": {
      "text/plain": [
       "135"
      ]
     },
     "execution_count": 46,
     "metadata": {},
     "output_type": "execute_result"
    }
   ],
   "source": [
    "num_years = get_num_years(data)\n",
    "num_years\n"
   ]
  },
  {
   "cell_type": "code",
   "execution_count": null,
   "id": "36e51581-b452-4806-845a-f640caa1c007",
   "metadata": {},
   "outputs": [],
   "source": [
    "popular_neutral_names = get_popular_neutral_names(data, num_years)\n",
    "popular_neutral_names\n"
   ]
  },
  {
   "cell_type": "code",
   "execution_count": null,
   "id": "197948be-93b4-4689-a0b9-1fb305a13747",
   "metadata": {},
   "outputs": [],
   "source": [
    "least_popular_max = get_least_popular_name(data)\n",
    "least_popular_max\n"
   ]
  },
  {
   "cell_type": "code",
   "execution_count": null,
   "id": "8aa66077-a6e7-47e8-9857-4bb7c2988cfa",
   "metadata": {},
   "outputs": [],
   "source": [
    "plot_john_mary_distribution(data)\n"
   ]
  },
  {
   "cell_type": "code",
   "execution_count": null,
   "id": "21dc1b96-d373-401c-a948-f064a95174aa",
   "metadata": {},
   "outputs": [],
   "source": []
  }
 ],
 "metadata": {
  "kernelspec": {
   "display_name": "Python 3 (ipykernel)",
   "language": "python",
   "name": "python3"
  },
  "language_info": {
   "codemirror_mode": {
    "name": "ipython",
    "version": 3
   },
   "file_extension": ".py",
   "mimetype": "text/x-python",
   "name": "python",
   "nbconvert_exporter": "python",
   "pygments_lexer": "ipython3",
   "version": "3.12.7"
  }
 },
 "nbformat": 4,
 "nbformat_minor": 5
}
