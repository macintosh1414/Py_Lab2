{
 "cells": [
  {
   "cell_type": "code",
   "execution_count": 2,
   "id": "86c788e6-4cb7-4c93-b263-7ff198a7908e",
   "metadata": {},
   "outputs": [
    {
     "data": {
      "text/html": [
       "<div>\n",
       "<style scoped>\n",
       "    .dataframe tbody tr th:only-of-type {\n",
       "        vertical-align: middle;\n",
       "    }\n",
       "\n",
       "    .dataframe tbody tr th {\n",
       "        vertical-align: top;\n",
       "    }\n",
       "\n",
       "    .dataframe thead th {\n",
       "        text-align: right;\n",
       "    }\n",
       "</style>\n",
       "<table border=\"1\" class=\"dataframe\">\n",
       "  <thead>\n",
       "    <tr style=\"text-align: right;\">\n",
       "      <th></th>\n",
       "      <th>Id</th>\n",
       "      <th>Name</th>\n",
       "      <th>Year</th>\n",
       "      <th>Gender</th>\n",
       "      <th>Count</th>\n",
       "    </tr>\n",
       "  </thead>\n",
       "  <tbody>\n",
       "    <tr>\n",
       "      <th>0</th>\n",
       "      <td>1</td>\n",
       "      <td>Mary</td>\n",
       "      <td>1880</td>\n",
       "      <td>F</td>\n",
       "      <td>7065</td>\n",
       "    </tr>\n",
       "    <tr>\n",
       "      <th>1</th>\n",
       "      <td>2</td>\n",
       "      <td>Anna</td>\n",
       "      <td>1880</td>\n",
       "      <td>F</td>\n",
       "      <td>2604</td>\n",
       "    </tr>\n",
       "    <tr>\n",
       "      <th>2</th>\n",
       "      <td>3</td>\n",
       "      <td>Emma</td>\n",
       "      <td>1880</td>\n",
       "      <td>F</td>\n",
       "      <td>2003</td>\n",
       "    </tr>\n",
       "    <tr>\n",
       "      <th>3</th>\n",
       "      <td>4</td>\n",
       "      <td>Elizabeth</td>\n",
       "      <td>1880</td>\n",
       "      <td>F</td>\n",
       "      <td>1939</td>\n",
       "    </tr>\n",
       "    <tr>\n",
       "      <th>4</th>\n",
       "      <td>5</td>\n",
       "      <td>Minnie</td>\n",
       "      <td>1880</td>\n",
       "      <td>F</td>\n",
       "      <td>1746</td>\n",
       "    </tr>\n",
       "    <tr>\n",
       "      <th>5</th>\n",
       "      <td>6</td>\n",
       "      <td>Margaret</td>\n",
       "      <td>1880</td>\n",
       "      <td>F</td>\n",
       "      <td>1578</td>\n",
       "    </tr>\n",
       "    <tr>\n",
       "      <th>6</th>\n",
       "      <td>7</td>\n",
       "      <td>Ida</td>\n",
       "      <td>1880</td>\n",
       "      <td>F</td>\n",
       "      <td>1472</td>\n",
       "    </tr>\n",
       "    <tr>\n",
       "      <th>7</th>\n",
       "      <td>8</td>\n",
       "      <td>Alice</td>\n",
       "      <td>1880</td>\n",
       "      <td>F</td>\n",
       "      <td>1414</td>\n",
       "    </tr>\n",
       "  </tbody>\n",
       "</table>\n",
       "</div>"
      ],
      "text/plain": [
       "   Id       Name  Year Gender  Count\n",
       "0   1       Mary  1880      F   7065\n",
       "1   2       Anna  1880      F   2604\n",
       "2   3       Emma  1880      F   2003\n",
       "3   4  Elizabeth  1880      F   1939\n",
       "4   5     Minnie  1880      F   1746\n",
       "5   6   Margaret  1880      F   1578\n",
       "6   7        Ida  1880      F   1472\n",
       "7   8      Alice  1880      F   1414"
      ]
     },
     "execution_count": 2,
     "metadata": {},
     "output_type": "execute_result"
    }
   ],
   "source": [
    "import pandas as pd\n",
    "import matplotlib.pyplot as plt\n",
    "\n",
    "# Завантаження даних\n",
    "file_path = 'NationalNames.csv'\n",
    "data = pd.read_csv(file_path)\n",
    "\n",
    "# Вивести перші 8 рядків\n",
    "data.head(8)\n"
   ]
  },
  {
   "cell_type": "code",
   "execution_count": 3,
   "id": "af768571-37c1-4479-91e4-7df213294c7f",
   "metadata": {},
   "outputs": [
    {
     "data": {
      "text/html": [
       "<div>\n",
       "<style scoped>\n",
       "    .dataframe tbody tr th:only-of-type {\n",
       "        vertical-align: middle;\n",
       "    }\n",
       "\n",
       "    .dataframe tbody tr th {\n",
       "        vertical-align: top;\n",
       "    }\n",
       "\n",
       "    .dataframe thead th {\n",
       "        text-align: right;\n",
       "    }\n",
       "</style>\n",
       "<table border=\"1\" class=\"dataframe\">\n",
       "  <thead>\n",
       "    <tr style=\"text-align: right;\">\n",
       "      <th></th>\n",
       "      <th>Id</th>\n",
       "      <th>Name</th>\n",
       "      <th>Year</th>\n",
       "      <th>Gender</th>\n",
       "      <th>Count</th>\n",
       "    </tr>\n",
       "  </thead>\n",
       "  <tbody>\n",
       "    <tr>\n",
       "      <th>1825425</th>\n",
       "      <td>1825426</td>\n",
       "      <td>Zo</td>\n",
       "      <td>2014</td>\n",
       "      <td>M</td>\n",
       "      <td>5</td>\n",
       "    </tr>\n",
       "    <tr>\n",
       "      <th>1825426</th>\n",
       "      <td>1825427</td>\n",
       "      <td>Zyeir</td>\n",
       "      <td>2014</td>\n",
       "      <td>M</td>\n",
       "      <td>5</td>\n",
       "    </tr>\n",
       "    <tr>\n",
       "      <th>1825427</th>\n",
       "      <td>1825428</td>\n",
       "      <td>Zyel</td>\n",
       "      <td>2014</td>\n",
       "      <td>M</td>\n",
       "      <td>5</td>\n",
       "    </tr>\n",
       "    <tr>\n",
       "      <th>1825428</th>\n",
       "      <td>1825429</td>\n",
       "      <td>Zykeem</td>\n",
       "      <td>2014</td>\n",
       "      <td>M</td>\n",
       "      <td>5</td>\n",
       "    </tr>\n",
       "    <tr>\n",
       "      <th>1825429</th>\n",
       "      <td>1825430</td>\n",
       "      <td>Zymeer</td>\n",
       "      <td>2014</td>\n",
       "      <td>M</td>\n",
       "      <td>5</td>\n",
       "    </tr>\n",
       "    <tr>\n",
       "      <th>1825430</th>\n",
       "      <td>1825431</td>\n",
       "      <td>Zymiere</td>\n",
       "      <td>2014</td>\n",
       "      <td>M</td>\n",
       "      <td>5</td>\n",
       "    </tr>\n",
       "    <tr>\n",
       "      <th>1825431</th>\n",
       "      <td>1825432</td>\n",
       "      <td>Zyran</td>\n",
       "      <td>2014</td>\n",
       "      <td>M</td>\n",
       "      <td>5</td>\n",
       "    </tr>\n",
       "    <tr>\n",
       "      <th>1825432</th>\n",
       "      <td>1825433</td>\n",
       "      <td>Zyrin</td>\n",
       "      <td>2014</td>\n",
       "      <td>M</td>\n",
       "      <td>5</td>\n",
       "    </tr>\n",
       "  </tbody>\n",
       "</table>\n",
       "</div>"
      ],
      "text/plain": [
       "              Id     Name  Year Gender  Count\n",
       "1825425  1825426       Zo  2014      M      5\n",
       "1825426  1825427    Zyeir  2014      M      5\n",
       "1825427  1825428     Zyel  2014      M      5\n",
       "1825428  1825429   Zykeem  2014      M      5\n",
       "1825429  1825430   Zymeer  2014      M      5\n",
       "1825430  1825431  Zymiere  2014      M      5\n",
       "1825431  1825432    Zyran  2014      M      5\n",
       "1825432  1825433    Zyrin  2014      M      5"
      ]
     },
     "execution_count": 3,
     "metadata": {},
     "output_type": "execute_result"
    }
   ],
   "source": [
    "# Вивести останні 8 рядків\n",
    "data.tail(8)\n"
   ]
  },
  {
   "cell_type": "code",
   "execution_count": 4,
   "id": "b56d51bd-2462-4bef-a278-20d0d7197b9a",
   "metadata": {},
   "outputs": [
    {
     "data": {
      "text/plain": [
       "Index(['Id', 'Name', 'Year', 'Gender', 'Count'], dtype='object')"
      ]
     },
     "execution_count": 4,
     "metadata": {},
     "output_type": "execute_result"
    }
   ],
   "source": [
    "# Отримати імена стовпців\n",
    "data.columns\n"
   ]
  },
  {
   "cell_type": "code",
   "execution_count": 6,
   "id": "4afc9bf3-f3c4-4bf8-88d0-2a7bd9f427a2",
   "metadata": {},
   "outputs": [
    {
     "data": {
      "text/plain": [
       "93889"
      ]
     },
     "execution_count": 6,
     "metadata": {},
     "output_type": "execute_result"
    }
   ],
   "source": [
    "# Кількість унікальних імен\n",
    "data['Name'].nunique()\n"
   ]
  },
  {
   "cell_type": "code",
   "execution_count": 10,
   "id": "07e1fdc4-55e9-44fe-aaa7-4b44e6c76e4d",
   "metadata": {},
   "outputs": [
    {
     "data": {
      "text/plain": [
       "Year\n",
       "1880     1889\n",
       "1881     1830\n",
       "1882     2012\n",
       "1883     1962\n",
       "1884     2158\n",
       "        ...  \n",
       "2010    31603\n",
       "2011    31418\n",
       "2012    31236\n",
       "2013    30774\n",
       "2014    30579\n",
       "Name: Name, Length: 135, dtype: int64"
      ]
     },
     "execution_count": 10,
     "metadata": {},
     "output_type": "execute_result"
    }
   ],
   "source": [
    "# Кількість унікальних імен у кожному році\n",
    "unique_names_per_year = data.groupby('Year')['Name'].nunique()\n",
    "unique_names_per_year\n"
   ]
  },
  {
   "cell_type": "code",
   "execution_count": 11,
   "id": "69a6ea2b-e267-401c-8171-69e0684363ed",
   "metadata": {},
   "outputs": [
    {
     "data": {
      "text/plain": [
       "np.int64(2008)"
      ]
     },
     "execution_count": 11,
     "metadata": {},
     "output_type": "execute_result"
    }
   ],
   "source": [
    "# Рік із найбільшою кількістю унікальних імен\n",
    "year_with_max_unique_names = unique_names_per_year.idxmax()\n",
    "year_with_max_unique_names\n"
   ]
  },
  {
   "cell_type": "code",
   "execution_count": 12,
   "id": "8dc4bd39-c986-4958-92f1-77af574b9528",
   "metadata": {},
   "outputs": [
    {
     "data": {
      "text/plain": [
       "Id        1608303\n",
       "Name        Jacob\n",
       "Year         2008\n",
       "Gender          M\n",
       "Count       22568\n",
       "Name: 1608302, dtype: object"
      ]
     },
     "execution_count": 12,
     "metadata": {},
     "output_type": "execute_result"
    }
   ],
   "source": [
    "# Найпопулярніше ім’я у році з найбільшою кількістю унікальних імен\n",
    "data_for_max_year = data[data['Year'] == year_with_max_unique_names]\n",
    "most_popular_name_max_year = data_for_max_year.loc[data_for_max_year['Count'].idxmax()]\n",
    "most_popular_name_max_year\n"
   ]
  },
  {
   "cell_type": "code",
   "execution_count": 15,
   "id": "7a633e26-0064-4950-8569-650533181cf5",
   "metadata": {},
   "outputs": [
    {
     "name": "stdout",
     "output_type": "stream",
     "text": [
      "\n",
      "13. Рік, коли ім’я “Jacob” було найпопулярнішим серед жіночих імен:\n",
      "2004\n"
     ]
    }
   ],
   "source": [
    "# 13. Рік, коли ім’я “Jacob” було найпопулярнішим серед жіночих імен\n",
    "jacob_female = data[(data['Name'] == 'Jacob') & (data['Gender'] == 'F')]\n",
    "if not jacob_female.empty:\n",
    "    jacob_female_year = jacob_female.loc[jacob_female['Count'].idxmax()]\n",
    "    print(\"\\n13. Рік, коли ім’я “Jacob” було найпопулярнішим серед жіночих імен:\")\n",
    "    print(jacob_female_year['Year'])\n",
    "else:\n",
    "    print(\"\\n13. Ім’я “Jacob” ніколи не було популярним серед жіночих імен.\")"
   ]
  },
  {
   "cell_type": "code",
   "execution_count": 24,
   "id": "fae3f22d-6931-4964-824b-7f14521b58f2",
   "metadata": {},
   "outputs": [
    {
     "name": "stdout",
     "output_type": "stream",
     "text": [
      "\n",
      "14. Рік із найбільшою кількістю гендерно нейтральних імен:\n",
      "2008\n"
     ]
    }
   ],
   "source": [
    "# 14. Рік із найбільшою кількістю гендерно нейтральних імен\n",
    "gender_neutral_names = data.groupby(['Year', 'Name']).filter(lambda x: x['Gender'].nunique() == 2)\n",
    "gender_neutral_counts = gender_neutral_names.groupby('Year')['Name'].nunique()\n",
    "year_with_most_neutral = gender_neutral_counts.idxmax()\n",
    "print(\"\\n14. Рік із найбільшою кількістю гендерно нейтральних імен:\")\n",
    "print(year_with_most_neutral)"
   ]
  },
  {
   "cell_type": "code",
   "execution_count": 19,
   "id": "06de1177-03eb-44f5-afe7-477fc6a7df91",
   "metadata": {},
   "outputs": [
    {
     "name": "stdout",
     "output_type": "stream",
     "text": [
      "\n",
      "15. Загальна кількість народжень за рік:\n",
      "Year\n",
      "1880    201484\n",
      "1881    192699\n",
      "1882    221538\n",
      "1883    216950\n",
      "1884    243467\n",
      "Name: Count, dtype: int64\n"
     ]
    }
   ],
   "source": [
    "# 15. Загальна кількість народжень за рік\n",
    "total_births_per_year = data.groupby('Year')['Count'].sum()\n",
    "print(\"\\n15. Загальна кількість народжень за рік:\")\n",
    "print(total_births_per_year.head())"
   ]
  },
  {
   "cell_type": "code",
   "execution_count": 20,
   "id": "61dbcfb9-73a9-4b56-b7f5-5a292c6caba9",
   "metadata": {},
   "outputs": [
    {
     "name": "stdout",
     "output_type": "stream",
     "text": [
      "\n",
      "16. Рік, коли народилося найбільше дітей:\n",
      "1957\n"
     ]
    }
   ],
   "source": [
    "# 16. Рік, коли народилося найбільше дітей\n",
    "year_with_most_births = total_births_per_year.idxmax()\n",
    "print(\"\\n16. Рік, коли народилося найбільше дітей:\")\n",
    "print(year_with_most_births)"
   ]
  },
  {
   "cell_type": "code",
   "execution_count": 21,
   "id": "cfaa29fd-ff52-4048-87c0-956497807f18",
   "metadata": {},
   "outputs": [
    {
     "name": "stdout",
     "output_type": "stream",
     "text": [
      "\n",
      "17. Кількість дівчаток та хлопчиків кожного року:\n",
      "Gender       F       M\n",
      "Year                  \n",
      "1880     90993  110491\n",
      "1881     91954  100745\n",
      "1882    107850  113688\n",
      "1883    112321  104629\n",
      "1884    129022  114445\n"
     ]
    }
   ],
   "source": [
    "# 17. Кількість дівчаток та хлопчиків, які народились кожного року\n",
    "births_by_gender = data.groupby(['Year', 'Gender'])['Count'].sum().unstack()\n",
    "print(\"\\n17. Кількість дівчаток та хлопчиків кожного року:\")\n",
    "print(births_by_gender.head())"
   ]
  },
  {
   "cell_type": "code",
   "execution_count": 22,
   "id": "156ae386-6a39-4023-a06f-3a91612f0cef",
   "metadata": {},
   "outputs": [
    {
     "name": "stdout",
     "output_type": "stream",
     "text": [
      "\n",
      "18. Кількість років, коли дівчаток народжувалось більше, ніж хлопчиків:\n",
      "54\n"
     ]
    }
   ],
   "source": [
    "# 18. Кількість років, коли дівчаток народжувалось більше, ніж хлопчиків\n",
    "years_more_girls = (births_by_gender['F'] > births_by_gender['M']).sum()\n",
    "print(\"\\n18. Кількість років, коли дівчаток народжувалось більше, ніж хлопчиків:\")\n",
    "print(years_more_girls)"
   ]
  },
  {
   "cell_type": "code",
   "execution_count": 30,
   "id": "0853ad43-7796-4ab6-bfc2-d724ad03a162",
   "metadata": {},
   "outputs": [
    {
     "name": "stdout",
     "output_type": "stream",
     "text": [
      "\n",
      "21. Кількість разів, коли хлопчиків називали Barbara:\n",
      "4139\n"
     ]
    }
   ],
   "source": [
    "# 21. Кількість разів, коли хлопчиків називали “Barbara”\n",
    "barbara_male_count = data[(data['Name'] == 'Barbara') & (data['Gender'] == 'M')]['Count'].sum()\n",
    "print(\"\\n21. Кількість разів, коли хлопчиків називали Barbara:\")\n",
    "print(barbara_male_count)"
   ]
  },
  {
   "cell_type": "code",
   "execution_count": 32,
   "id": "c9109702-a796-4dab-84fe-a35235f26a59",
   "metadata": {},
   "outputs": [
    {
     "name": "stdout",
     "output_type": "stream",
     "text": [
      "\n",
      "22. Кількість років спостереження:\n",
      "135\n"
     ]
    }
   ],
   "source": [
    "# 22. Підрахуйте кількість років спостереження\n",
    "num_years = data['Year'].nunique()\n",
    "print(\"\\n22. Кількість років спостереження:\")\n",
    "print(num_years)"
   ]
  },
  {
   "cell_type": "code",
   "execution_count": 34,
   "id": "690e9bb3-2f04-41a8-8598-53531aac1520",
   "metadata": {},
   "outputs": [
    {
     "name": "stdout",
     "output_type": "stream",
     "text": [
      "\n",
      "23. Найпопулярніші гендерно нейтральні імена:\n",
      "['Francis', 'James', 'Jean', 'Jesse', 'Jessie', 'John', 'Johnnie', 'Joseph', 'Lee', 'Leslie', 'Marion', 'Ollie', 'Robert', 'Sidney', 'Tommie', 'William']\n"
     ]
    }
   ],
   "source": [
    "# 23. Найпопулярніші гендерно нейтральні імена (присутні кожного року)\n",
    "neutral_names_per_year = gender_neutral_names.groupby('Name')['Year'].nunique()\n",
    "popular_neutral_names = neutral_names_per_year[neutral_names_per_year == num_years]\n",
    "print(\"\\n23. Найпопулярніші гендерно нейтральні імена:\")\n",
    "print(popular_neutral_names.index.tolist())"
   ]
  },
  {
   "cell_type": "code",
   "execution_count": 36,
   "id": "8cce302b-bfaf-4ac0-b851-ed76e2abf78f",
   "metadata": {},
   "outputs": [
    {
     "name": "stdout",
     "output_type": "stream",
     "text": [
      "\n",
      "24. Найпопулярніше серед непопулярних імен:\n",
      "James\n"
     ]
    }
   ],
   "source": [
    "# 24. Найпопулярніше серед непопулярних імен\n",
    "least_popular_names = data.groupby('Name')['Count'].sum()\n",
    "least_popular_max = least_popular_names.idxmax()\n",
    "print(\"\\n24. Найпопулярніше серед непопулярних імен:\")\n",
    "print(least_popular_max)"
   ]
  },
  {
   "cell_type": "code",
   "execution_count": 38,
   "id": "9cc35f2a-52d3-4cb0-8d00-0376edeb14f2",
   "metadata": {},
   "outputs": [
    {
     "data": {
      "image/png": "[encoded data removed]",
      "text/plain": [
       "<Figure size 1000x600 with 1 Axes>"
      ]
     },
     "metadata": {},
     "output_type": "display_data"
    }
   ],
   "source": [
    "# 26. Графік розподілу жіночих імен John та чоловічих імен Mary по роках\n",
    "john_female = data[(data['Name'] == 'John') & (data['Gender'] == 'F')]\n",
    "mary_male = data[(data['Name'] == 'Mary') & (data['Gender'] == 'M')]\n",
    "\n",
    "plt.figure(figsize=(10, 6))\n",
    "plt.plot(john_female['Year'], john_female['Count'], label='John (жінки)', color='blue')\n",
    "plt.plot(mary_male['Year'], mary_male['Count'], label='Mary (чоловіки)', color='green')\n",
    "plt.title('Розподіл кількості імен John (жінки) та Mary (чоловіки) по роках')\n",
    "plt.xlabel('Рік')\n",
    "plt.ylabel('Кількість')\n",
    "plt.legend()\n",
    "plt.grid()\n",
    "plt.show()"
   ]
  },
  {
   "cell_type": "code",
   "execution_count": null,
   "id": "5b75096a-75dc-420c-b310-2044a98c6534",
   "metadata": {},
   "outputs": [],
   "source": []
  }
 ],
 "metadata": {
  "kernelspec": {
   "display_name": "Python 3 (ipykernel)",
   "language": "python",
   "name": "python3"
  },
  "language_info": {
   "codemirror_mode": {
    "name": "ipython",
    "version": 3
   },
   "file_extension": ".py",
   "mimetype": "text/x-python",
   "name": "python",
   "nbconvert_exporter": "python",
   "pygments_lexer": "ipython3",
   "version": "3.12.7"
  }
 },
 "nbformat": 4,
 "nbformat_minor": 5
}
